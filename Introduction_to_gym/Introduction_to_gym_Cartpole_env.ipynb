{
 "cells": [
  {
   "cell_type": "code",
   "execution_count": 2,
   "metadata": {},
   "outputs": [],
   "source": [
    "import gym"
   ]
  },
  {
   "cell_type": "code",
   "execution_count": 4,
   "metadata": {},
   "outputs": [
    {
     "name": "stdout",
     "output_type": "stream",
     "text": [
      "\u001b[33mWARN: gym.spaces.Box autodetected dtype as <class 'numpy.float32'>. Please provide explicit dtype.\u001b[0m\n",
      "\u001b[33mWARN: You are calling 'step()' even though this environment has already returned done = True. You should always call 'reset()' once you receive 'done = True' -- any further steps are undefined behavior.\u001b[0m\n"
     ]
    }
   ],
   "source": [
    "env=gym.make('CartPole-v0')\n",
    "env.reset()\n",
    "\n",
    "for _ in range(1000):\n",
    "    env.render()\n",
    "    env.step(env.action_space.sample())\n",
    "env.close()"
   ]
  },
  {
   "cell_type": "code",
   "execution_count": 9,
   "metadata": {},
   "outputs": [
    {
     "name": "stdout",
     "output_type": "stream",
     "text": [
      "\u001b[33mWARN: gym.spaces.Box autodetected dtype as <class 'numpy.float32'>. Please provide explicit dtype.\u001b[0m\n",
      "Episode #0 finished after 18 timesteps\n",
      "Episode #1 finished after 43 timesteps\n",
      "Episode #2 finished after 15 timesteps\n",
      "Episode #3 finished after 13 timesteps\n",
      "Episode #4 finished after 12 timesteps\n",
      "Episode #5 finished after 21 timesteps\n",
      "Episode #6 finished after 16 timesteps\n",
      "Episode #7 finished after 26 timesteps\n",
      "Episode #8 finished after 17 timesteps\n",
      "Episode #9 finished after 13 timesteps\n",
      "Episode #10 finished after 17 timesteps\n",
      "Episode #11 finished after 17 timesteps\n",
      "Episode #12 finished after 29 timesteps\n",
      "Episode #13 finished after 22 timesteps\n",
      "Episode #14 finished after 25 timesteps\n",
      "Episode #15 finished after 9 timesteps\n",
      "Episode #16 finished after 17 timesteps\n",
      "Episode #17 finished after 51 timesteps\n",
      "Episode #18 finished after 20 timesteps\n",
      "Episode #19 finished after 9 timesteps\n"
     ]
    }
   ],
   "source": [
    "env=gym.make('CartPole-v0')\n",
    "for i_episode in range(20):\n",
    "    observation=env.reset()\n",
    "    for t in range(1000):\n",
    "        env.render()\n",
    "        #print(observation)\n",
    "        action=env.action_space.sample()\n",
    "        observation, reward ,done ,info = env.step(action)\n",
    "        \n",
    "        if done:\n",
    "            print('Episode #%d finished after %d timesteps' %(i_episode,t))\n",
    "            break\n",
    "env.close()      #the latest updates of gym has a function for close, the option of close=True in render has been removed.\n",
    "#env.render(close=True)"
   ]
  },
  {
   "cell_type": "code",
   "execution_count": 7,
   "metadata": {},
   "outputs": [
    {
     "data": {
      "text/plain": [
       "Discrete(2)"
      ]
     },
     "execution_count": 7,
     "metadata": {},
     "output_type": "execute_result"
    }
   ],
   "source": [
    "env.action_space"
   ]
  },
  {
   "cell_type": "code",
   "execution_count": 8,
   "metadata": {},
   "outputs": [
    {
     "data": {
      "text/plain": [
       "Box(4,)"
      ]
     },
     "execution_count": 8,
     "metadata": {},
     "output_type": "execute_result"
    }
   ],
   "source": [
    "env.observation_space"
   ]
  }
 ],
 "metadata": {
  "kernelspec": {
   "display_name": "Python 3",
   "language": "python",
   "name": "python3"
  },
  "language_info": {
   "codemirror_mode": {
    "name": "ipython",
    "version": 3
   },
   "file_extension": ".py",
   "mimetype": "text/x-python",
   "name": "python",
   "nbconvert_exporter": "python",
   "pygments_lexer": "ipython3",
   "version": "3.5.2"
  }
 },
 "nbformat": 4,
 "nbformat_minor": 2
}
